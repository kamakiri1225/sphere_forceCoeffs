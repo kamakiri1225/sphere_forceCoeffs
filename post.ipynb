{
 "cells": [
  {
   "cell_type": "markdown",
   "id": "a964076b-2827-42e1-83af-ef363bc17878",
   "metadata": {},
   "source": [
    "# 修正まとめ"
   ]
  },
  {
   "cell_type": "code",
   "execution_count": 1,
   "id": "732cb253-8ffa-41ae-9207-60cdab7264ee",
   "metadata": {},
   "outputs": [],
   "source": [
    "from pathlib import Path\n",
    "import shutil\n",
    "import subprocess\n",
    "import numpy as np\n",
    "from PyFoam.RunDictionary.ParsedParameterFile import ParsedParameterFile\n",
    "import matplotlib.pyplot as plt\n",
    "from matplotlib.patches import Rectangle\n",
    "\n",
    "from pathlib import Path\n",
    "import numpy as np\n",
    "\n",
    "# 本章で使用するライブラリ\n",
    "import shutil\n",
    "import subprocess\n",
    "import matplotlib.pyplot as plt\n",
    "from PyFoam.RunDictionary.ParsedParameterFile import ParsedParameterFile\n",
    "import pandas as pd\n",
    "import os\n",
    "\n",
    "\n",
    "def clone_file(orgCase, resultDir):\n",
    "    \"orgCaseをresultDirに重複しないようにコピー\"\n",
    "    baseName = Path(orgCase).name\n",
    "\n",
    "    addName = None\n",
    "    if addName!=None:\n",
    "        baseName += f'_{addName}'\n",
    "\n",
    "    Path(resultDir).mkdir(exist_ok=True, parents=True)\n",
    "\n",
    "    n=0\n",
    "    newCase = Path(resultDir) / f'{baseName}_{n}'\n",
    "\n",
    "    while newCase.is_dir():\n",
    "        n += 1\n",
    "        newCase = Path(resultDir) / f'{baseName}_{n}'\n",
    "\n",
    "    shutil.copytree(orgCase, newCase)\n",
    "    \n",
    "    return newCase\n",
    "    \n",
    "def cd_result(resultDir, newCase):\n",
    "    #抗力係数の出力\n",
    "    keys = ['forceCoeffs']\n",
    "    startTime = 0\n",
    "    datfile = 'forceCoeffs.dat'\n",
    "    \n",
    "    key = keys[0]\n",
    "    df = pd.DataFrame()\n",
    "\n",
    "    case = str(newCase)\n",
    "    name = os.path.basename(case)\n",
    "    forceFile = f'{resultDir}/{case}/postProcessing/{key}/{startTime}/{datfile}'\n",
    "    df_cd = pd.read_csv(forceFile, sep='\\t', header=8,index_col=0)\n",
    "    cd = np.array([ valStr for keys, valStr in df_cd[df_cd.columns[1]].items() ])\n",
    " \n",
    "    return cd\n",
    "\n",
    "def new_parameter(newU, newCase):\n",
    "    # 流速の変更\n",
    "    fileU = ParsedParameterFile(newCase / '0/U')\n",
    "    fileU.content['boundaryField']['XMin']['value'] = 'uniform ({:.6f} 0 0)'.format(newU)\n",
    "    fileU.content['internalField'] = 'uniform ({:.6f} 0 0)'.format(newU)\n",
    "    fileU.writeFile()\n",
    "    print(f'Inlet(Xmin) U is now {newU}')\n",
    "    print(f'Inlet(initial) U is now {newU}')\n",
    "    \n",
    "    # 抗力係数の代表速度の変更\n",
    "    file_controlDict = ParsedParameterFile(newCase / 'system/controlDict')\n",
    "    file_controlDict.content['functions']['forceCoeffs']['magUInf'] = newU\n",
    "    file_controlDict.writeFile()\n",
    "\n",
    "def cd_Re(newU, cd):\n",
    "    U = newU\n",
    "    L = 250E-3\n",
    "    mu = 1.511e-05\n",
    "    Re = U*L/mu\n",
    "    # print(f\"cd={cd[-1]}\")\n",
    "    # print(f\"レイノルズ数={round(Re,1)}\")\n",
    "    \n",
    "    return Re\n",
    "\n",
    "def Allrun(newCase):\n",
    "    \"Allrunを実行\"\n",
    "    out_run = subprocess.check_output(['./Allrun'], cwd=newCase)\n",
    "    return out_run.decode()\n",
    "\n",
    "def Cd_Re():\n",
    "    Re_ana = np.linspace(0.01, 10000000, 1000000)\n",
    "    cd_ana = 24/Re_ana + ( 2.6*(Re_ana/5) )/(1+(Re_ana)**1.52) +  ( 0.411*(Re_ana/263000)**(-7.94) )/(1+(Re_ana/263000)**(-8.00)) +(Re_ana**0.80)/461000\n",
    "        \n",
    "    return Re_ana, cd_ana"
   ]
  },
  {
   "cell_type": "code",
   "execution_count": 2,
   "id": "9b877099-13c0-47ac-aff2-037b56ae5732",
   "metadata": {},
   "outputs": [],
   "source": [
    "orgCase = 'orgCase/base_k-epsilon'\n",
    "resultDir = 'resultDir/'\n",
    "\n",
    "newU_list = [0.000001,0.00001,0.00002,0.00003, 0.001, 0.01, 0.1, 1.0, 10.0, 20.0, 30.0,40.0,100.0]"
   ]
  },
  {
   "cell_type": "code",
   "execution_count": 3,
   "id": "6632e582-e6c6-4b65-91fd-bbfebbe6798d",
   "metadata": {},
   "outputs": [
    {
     "name": "stdout",
     "output_type": "stream",
     "text": [
      "Inlet(Xmin) U is now 1e-06\n",
      "Inlet(initial) U is now 1e-06\n",
      "==================================================\n",
      "Inlet(Xmin) U is now 1e-05\n",
      "Inlet(initial) U is now 1e-05\n",
      "==================================================\n",
      "Inlet(Xmin) U is now 2e-05\n",
      "Inlet(initial) U is now 2e-05\n",
      "==================================================\n",
      "Inlet(Xmin) U is now 3e-05\n",
      "Inlet(initial) U is now 3e-05\n",
      "==================================================\n",
      "Inlet(Xmin) U is now 0.001\n",
      "Inlet(initial) U is now 0.001\n",
      "==================================================\n",
      "Inlet(Xmin) U is now 0.01\n",
      "Inlet(initial) U is now 0.01\n",
      "==================================================\n",
      "Inlet(Xmin) U is now 0.1\n",
      "Inlet(initial) U is now 0.1\n",
      "==================================================\n",
      "Inlet(Xmin) U is now 1.0\n",
      "Inlet(initial) U is now 1.0\n",
      "==================================================\n",
      "Inlet(Xmin) U is now 10.0\n",
      "Inlet(initial) U is now 10.0\n",
      "==================================================\n",
      "Inlet(Xmin) U is now 20.0\n",
      "Inlet(initial) U is now 20.0\n",
      "==================================================\n",
      "Inlet(Xmin) U is now 30.0\n",
      "Inlet(initial) U is now 30.0\n",
      "==================================================\n",
      "Inlet(Xmin) U is now 40.0\n",
      "Inlet(initial) U is now 40.0\n",
      "==================================================\n",
      "Inlet(Xmin) U is now 100.0\n",
      "Inlet(initial) U is now 100.0\n",
      "==================================================\n"
     ]
    }
   ],
   "source": [
    "# 計算実行\n",
    "\n",
    "for newU in newU_list:\n",
    "    newCase = clone_file(orgCase, resultDir)\n",
    "    new_parameter(newU, newCase)\n",
    "    Allrun(newCase)\n",
    "\n",
    "    print('='*50)"
   ]
  },
  {
   "cell_type": "code",
   "execution_count": 31,
   "id": "9ef0de4e-286e-49a3-8abb-bb25207ee913",
   "metadata": {},
   "outputs": [
    {
     "data": {
      "text/plain": [
       "['base_k-epsilon_0',\n",
       " 'base_k-epsilon_1',\n",
       " 'base_k-epsilon_2',\n",
       " 'base_k-epsilon_3',\n",
       " 'base_k-epsilon_4',\n",
       " 'base_k-epsilon_5',\n",
       " 'base_k-epsilon_6',\n",
       " 'base_k-epsilon_7',\n",
       " 'base_k-epsilon_8',\n",
       " 'base_k-epsilon_9',\n",
       " 'base_k-epsilon_10',\n",
       " 'base_k-epsilon_11',\n",
       " 'base_k-epsilon_12']"
      ]
     },
     "execution_count": 31,
     "metadata": {},
     "output_type": "execute_result"
    }
   ],
   "source": [
    "from natsort import natsorted\n",
    "\n",
    "newCase_list = natsorted (os.listdir(resultDir) ) \n",
    "\n",
    "newCase_list"
   ]
  },
  {
   "cell_type": "code",
   "execution_count": 32,
   "id": "9650b95f-e454-4cf5-86b7-c9a59dad40a8",
   "metadata": {},
   "outputs": [],
   "source": [
    "cd_list = []\n",
    "Re_list = []\n",
    "\n",
    "for i, newCase in enumerate(newCase_list):\n",
    "    cd = cd_result(resultDir, newCase)\n",
    "    Re = cd_Re(newU_list[i], cd)\n",
    "    \n",
    "    \n",
    "    cd_list.append(cd[-1])\n",
    "    Re_list.append(Re)"
   ]
  },
  {
   "cell_type": "code",
   "execution_count": 33,
   "id": "048fc08c-db31-4b4a-a48a-1cf0cef7a467",
   "metadata": {},
   "outputs": [
    {
     "data": {
      "text/html": [
       "<div>\n",
       "<style scoped>\n",
       "    .dataframe tbody tr th:only-of-type {\n",
       "        vertical-align: middle;\n",
       "    }\n",
       "\n",
       "    .dataframe tbody tr th {\n",
       "        vertical-align: top;\n",
       "    }\n",
       "\n",
       "    .dataframe thead th {\n",
       "        text-align: right;\n",
       "    }\n",
       "</style>\n",
       "<table border=\"1\" class=\"dataframe\">\n",
       "  <thead>\n",
       "    <tr style=\"text-align: right;\">\n",
       "      <th></th>\n",
       "      <th>Re</th>\n",
       "      <th>cd</th>\n",
       "    </tr>\n",
       "  </thead>\n",
       "  <tbody>\n",
       "    <tr>\n",
       "      <th>0</th>\n",
       "      <td>1.654533e-02</td>\n",
       "      <td>2613.540000</td>\n",
       "    </tr>\n",
       "    <tr>\n",
       "      <th>1</th>\n",
       "      <td>1.654533e-01</td>\n",
       "      <td>261.387400</td>\n",
       "    </tr>\n",
       "    <tr>\n",
       "      <th>2</th>\n",
       "      <td>3.309067e-01</td>\n",
       "      <td>130.722300</td>\n",
       "    </tr>\n",
       "    <tr>\n",
       "      <th>3</th>\n",
       "      <td>4.963600e-01</td>\n",
       "      <td>87.083340</td>\n",
       "    </tr>\n",
       "    <tr>\n",
       "      <th>4</th>\n",
       "      <td>1.654533e+01</td>\n",
       "      <td>3.632683</td>\n",
       "    </tr>\n",
       "    <tr>\n",
       "      <th>5</th>\n",
       "      <td>1.654533e+02</td>\n",
       "      <td>1.039471</td>\n",
       "    </tr>\n",
       "    <tr>\n",
       "      <th>6</th>\n",
       "      <td>1.654533e+03</td>\n",
       "      <td>0.567880</td>\n",
       "    </tr>\n",
       "    <tr>\n",
       "      <th>7</th>\n",
       "      <td>1.654533e+04</td>\n",
       "      <td>0.396669</td>\n",
       "    </tr>\n",
       "    <tr>\n",
       "      <th>8</th>\n",
       "      <td>1.654533e+05</td>\n",
       "      <td>0.407806</td>\n",
       "    </tr>\n",
       "    <tr>\n",
       "      <th>9</th>\n",
       "      <td>3.309067e+05</td>\n",
       "      <td>0.403391</td>\n",
       "    </tr>\n",
       "    <tr>\n",
       "      <th>10</th>\n",
       "      <td>4.963600e+05</td>\n",
       "      <td>0.392753</td>\n",
       "    </tr>\n",
       "    <tr>\n",
       "      <th>11</th>\n",
       "      <td>6.618134e+05</td>\n",
       "      <td>0.399725</td>\n",
       "    </tr>\n",
       "    <tr>\n",
       "      <th>12</th>\n",
       "      <td>1.654533e+06</td>\n",
       "      <td>0.394238</td>\n",
       "    </tr>\n",
       "  </tbody>\n",
       "</table>\n",
       "</div>"
      ],
      "text/plain": [
       "              Re           cd\n",
       "0   1.654533e-02  2613.540000\n",
       "1   1.654533e-01   261.387400\n",
       "2   3.309067e-01   130.722300\n",
       "3   4.963600e-01    87.083340\n",
       "4   1.654533e+01     3.632683\n",
       "5   1.654533e+02     1.039471\n",
       "6   1.654533e+03     0.567880\n",
       "7   1.654533e+04     0.396669\n",
       "8   1.654533e+05     0.407806\n",
       "9   3.309067e+05     0.403391\n",
       "10  4.963600e+05     0.392753\n",
       "11  6.618134e+05     0.399725\n",
       "12  1.654533e+06     0.394238"
      ]
     },
     "execution_count": 33,
     "metadata": {},
     "output_type": "execute_result"
    }
   ],
   "source": [
    "Re_ana, cd_ana = Cd_Re()\n",
    "\n",
    "df_cdRe = pd.DataFrame()\n",
    "df_cdRe['Re'] = Re_list\n",
    "df_cdRe['cd'] = cd_list\n",
    "\n",
    "df_cdRe"
   ]
  },
  {
   "cell_type": "code",
   "execution_count": 34,
   "id": "d85f117e-964d-45dd-9d55-91682d312d4c",
   "metadata": {},
   "outputs": [
    {
     "data": {
      "text/plain": [
       "Text(0, 0.5, 'log10(Cd)')"
      ]
     },
     "execution_count": 34,
     "metadata": {},
     "output_type": "execute_result"
    },
    {
     "name": "stderr",
     "output_type": "stream",
     "text": [
      "/usr/local/lib/python3.8/dist-packages/IPython/core/pylabtools.py:151: UserWarning: Creating legend with loc=\"best\" can be slow with large amounts of data.\n",
      "  fig.canvas.print_figure(bytes_io, **kw)\n"
     ]
    },
    {
     "data": {
      "image/png": "[encoded data removed]",
      "text/plain": [
       "<Figure size 432x288 with 1 Axes>"
      ]
     },
     "metadata": {
      "needs_background": "light"
     },
     "output_type": "display_data"
    }
   ],
   "source": [
    "plt.scatter(np.log10(df_cdRe['Re']), np.log10(df_cdRe['cd']), color='blue', label = 'CAE')\n",
    "plt.plot(np.log10(Re_ana), np.log10(cd_ana), color='black', label='Exp')\n",
    "plt.grid()\n",
    "plt.legend()\n",
    "plt.xlabel('log10(Re)',fontsize=16)\n",
    "plt.ylabel('log10(Cd)',fontsize=16)"
   ]
  },
  {
   "cell_type": "code",
   "execution_count": null,
   "id": "3a912321-fc38-4e19-9911-5bdcb14cc254",
   "metadata": {},
   "outputs": [],
   "source": []
  }
 ],
 "metadata": {
  "kernelspec": {
   "display_name": "Python 3 (ipykernel)",
   "language": "python",
   "name": "python3"
  },
  "language_info": {
   "codemirror_mode": {
    "name": "ipython",
    "version": 3
   },
   "file_extension": ".py",
   "mimetype": "text/x-python",
   "name": "python",
   "nbconvert_exporter": "python",
   "pygments_lexer": "ipython3",
   "version": "3.8.10"
  }
 },
 "nbformat": 4,
 "nbformat_minor": 5
}
